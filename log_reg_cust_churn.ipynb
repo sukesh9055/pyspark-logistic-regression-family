{
 "cells": [
  {
   "cell_type": "code",
   "execution_count": 1,
   "id": "9a6aa1cf",
   "metadata": {},
   "outputs": [],
   "source": [
    "import findspark\n",
    "findspark.init()"
   ]
  },
  {
   "cell_type": "markdown",
   "id": "54e90978",
   "metadata": {},
   "source": [
    "Binary Customer Churn\n",
    "\n",
    "\n",
    "A marketing agency has many customers that use their service to produce ads for the client/customer websites. They've noticed that they have quite a bit of churn in clients. They basically randomly assign account managers right now, but want you to create a machine learning model that will help predict which customers will churn (stop buying their service) so that they can correctly assign the customers most at risk to churn an account manager. Luckily they have some historical data, can you help them out? Create a classification algorithm that will help classify whether or not a customer churned. Then the company can test this against incoming data for future customers to predict which customers will churn and assign them an account manager.\n",
    "\n",
    "The data is saved as customer_churn.csv. Here are the fields and their definitions:\n",
    "\n",
    "Name : Name of the latest contact at Company\n",
    "Age: Customer Age\n",
    "Total_Purchase: Total Ads Purchased\n",
    "Account_Manager: Binary 0=No manager, 1= Account manager assigned\n",
    "Years: Totaly Years as a customer\n",
    "Num_sites: Number of websites that use the service.\n",
    "Onboard_date: Date that the name of the latest contact was onboarded\n",
    "Location: Client HQ Address\n",
    "Company: Name of Client Company\n",
    "\n",
    "Once you've created the model and evaluated it, test out the model on some new data (you can think of this almost like a hold-out set) that your client has provided, saved under new_customers.csv. The client wants to know which customers are most likely to churn given this data (they don't have the label yet)."
   ]
  },
  {
   "cell_type": "code",
   "execution_count": 2,
   "id": "af3fc702",
   "metadata": {},
   "outputs": [],
   "source": [
    "from pyspark.sql import SparkSession"
   ]
  },
  {
   "cell_type": "code",
   "execution_count": 3,
   "id": "182a0905",
   "metadata": {},
   "outputs": [],
   "source": [
    "spark = SparkSession.builder.master('local[*]').appName(\"logregconsult\").getOrCreate()"
   ]
  },
  {
   "cell_type": "code",
   "execution_count": 4,
   "id": "5731e824",
   "metadata": {},
   "outputs": [],
   "source": [
    "data = spark.read.csv(\"logisticregressiondata/customer_churn.csv\",inferSchema=True,header=True)"
   ]
  },
  {
   "cell_type": "code",
   "execution_count": 5,
   "id": "d703e3db",
   "metadata": {},
   "outputs": [
    {
     "name": "stdout",
     "output_type": "stream",
     "text": [
      "root\n",
      " |-- Names: string (nullable = true)\n",
      " |-- Age: double (nullable = true)\n",
      " |-- Total_Purchase: double (nullable = true)\n",
      " |-- Account_Manager: integer (nullable = true)\n",
      " |-- Years: double (nullable = true)\n",
      " |-- Num_Sites: double (nullable = true)\n",
      " |-- Onboard_date: string (nullable = true)\n",
      " |-- Location: string (nullable = true)\n",
      " |-- Company: string (nullable = true)\n",
      " |-- Churn: integer (nullable = true)\n",
      "\n"
     ]
    }
   ],
   "source": [
    "data.printSchema()"
   ]
  },
  {
   "cell_type": "code",
   "execution_count": 6,
   "id": "858ec06b",
   "metadata": {},
   "outputs": [
    {
     "name": "stdout",
     "output_type": "stream",
     "text": [
      "+-------+-------------+-----------------+-----------------+------------------+-----------------+------------------+-------------------+--------------------+--------------------+-------------------+\n",
      "|summary|        Names|              Age|   Total_Purchase|   Account_Manager|            Years|         Num_Sites|       Onboard_date|            Location|             Company|              Churn|\n",
      "+-------+-------------+-----------------+-----------------+------------------+-----------------+------------------+-------------------+--------------------+--------------------+-------------------+\n",
      "|  count|          900|              900|              900|               900|              900|               900|                900|                 900|                 900|                900|\n",
      "|   mean|         null|41.81666666666667|10062.82403333334|0.4811111111111111| 5.27315555555555| 8.587777777777777|               null|                null|                null|0.16666666666666666|\n",
      "| stddev|         null|6.127560416916251|2408.644531858096|0.4999208935073339|1.274449013194616|1.7648355920350969|               null|                null|                null| 0.3728852122772358|\n",
      "|    min|   Aaron King|             22.0|            100.0|                 0|              1.0|               3.0|2006-01-02 04:16:13|00103 Jeffrey Cre...|     Abbott-Thompson|                  0|\n",
      "|    max|Zachary Walsh|             65.0|         18026.01|                 1|             9.15|              14.0|2016-12-28 04:07:38|Unit 9800 Box 287...|Zuniga, Clark and...|                  1|\n",
      "+-------+-------------+-----------------+-----------------+------------------+-----------------+------------------+-------------------+--------------------+--------------------+-------------------+\n",
      "\n"
     ]
    }
   ],
   "source": [
    "data.describe().show()"
   ]
  },
  {
   "cell_type": "code",
   "execution_count": 7,
   "id": "707414ac",
   "metadata": {},
   "outputs": [
    {
     "data": {
      "text/plain": [
       "['Names',\n",
       " 'Age',\n",
       " 'Total_Purchase',\n",
       " 'Account_Manager',\n",
       " 'Years',\n",
       " 'Num_Sites',\n",
       " 'Onboard_date',\n",
       " 'Location',\n",
       " 'Company',\n",
       " 'Churn']"
      ]
     },
     "execution_count": 7,
     "metadata": {},
     "output_type": "execute_result"
    }
   ],
   "source": [
    "data.columns"
   ]
  },
  {
   "cell_type": "markdown",
   "id": "fdac606c",
   "metadata": {},
   "source": [
    "Format for MLlib"
   ]
  },
  {
   "cell_type": "code",
   "execution_count": 8,
   "id": "032a4e0c",
   "metadata": {},
   "outputs": [],
   "source": [
    "from pyspark.ml.feature import VectorAssembler"
   ]
  },
  {
   "cell_type": "code",
   "execution_count": 9,
   "id": "7dbfee2d",
   "metadata": {},
   "outputs": [],
   "source": [
    "assembler = VectorAssembler(inputCols=['Age',\n",
    " 'Total_Purchase',\n",
    " 'Account_Manager',\n",
    " 'Years',\n",
    " 'Num_Sites'],outputCol='features')"
   ]
  },
  {
   "cell_type": "code",
   "execution_count": 10,
   "id": "1e21580a",
   "metadata": {},
   "outputs": [],
   "source": [
    "output = assembler.transform(data)"
   ]
  },
  {
   "cell_type": "code",
   "execution_count": 12,
   "id": "56e576ec",
   "metadata": {},
   "outputs": [
    {
     "name": "stdout",
     "output_type": "stream",
     "text": [
      "root\n",
      " |-- Names: string (nullable = true)\n",
      " |-- Age: double (nullable = true)\n",
      " |-- Total_Purchase: double (nullable = true)\n",
      " |-- Account_Manager: integer (nullable = true)\n",
      " |-- Years: double (nullable = true)\n",
      " |-- Num_Sites: double (nullable = true)\n",
      " |-- Onboard_date: string (nullable = true)\n",
      " |-- Location: string (nullable = true)\n",
      " |-- Company: string (nullable = true)\n",
      " |-- Churn: integer (nullable = true)\n",
      " |-- features: vector (nullable = true)\n",
      "\n"
     ]
    }
   ],
   "source": [
    "output.printSchema()"
   ]
  },
  {
   "cell_type": "code",
   "execution_count": 13,
   "id": "bb122b56",
   "metadata": {},
   "outputs": [],
   "source": [
    "final_data = output.select('features','churn')"
   ]
  },
  {
   "cell_type": "code",
   "execution_count": 16,
   "id": "4caac960",
   "metadata": {},
   "outputs": [
    {
     "name": "stdout",
     "output_type": "stream",
     "text": [
      "+--------------------+-----+\n",
      "|            features|churn|\n",
      "+--------------------+-----+\n",
      "|[42.0,11066.8,0.0...|    1|\n",
      "|[41.0,11916.22,0....|    1|\n",
      "|[38.0,12884.75,0....|    1|\n",
      "|[42.0,8010.76,0.0...|    1|\n",
      "|[37.0,9191.58,0.0...|    1|\n",
      "|[48.0,10356.02,0....|    1|\n",
      "|[44.0,11331.58,1....|    1|\n",
      "|[32.0,9885.12,1.0...|    1|\n",
      "|[43.0,14062.6,1.0...|    1|\n",
      "|[40.0,8066.94,1.0...|    1|\n",
      "|[30.0,11575.37,1....|    1|\n",
      "|[45.0,8771.02,1.0...|    1|\n",
      "|[45.0,8988.67,1.0...|    1|\n",
      "|[40.0,8283.32,1.0...|    1|\n",
      "|[41.0,6569.87,1.0...|    1|\n",
      "|[38.0,10494.82,1....|    1|\n",
      "|[45.0,8213.41,1.0...|    1|\n",
      "|[43.0,11226.88,0....|    1|\n",
      "|[53.0,5515.09,0.0...|    1|\n",
      "|[46.0,8046.4,1.0,...|    1|\n",
      "+--------------------+-----+\n",
      "only showing top 20 rows\n",
      "\n"
     ]
    }
   ],
   "source": [
    "final_data.show()"
   ]
  },
  {
   "cell_type": "markdown",
   "id": "522533c1",
   "metadata": {},
   "source": [
    "Test Train Split"
   ]
  },
  {
   "cell_type": "code",
   "execution_count": 17,
   "id": "d4fa2236",
   "metadata": {},
   "outputs": [],
   "source": [
    "train_churn,test_churn = final_data.randomSplit([0.7,0.3])"
   ]
  },
  {
   "cell_type": "markdown",
   "id": "d51ce8ce",
   "metadata": {},
   "source": [
    "Fit the model"
   ]
  },
  {
   "cell_type": "code",
   "execution_count": 19,
   "id": "a708fa34",
   "metadata": {},
   "outputs": [],
   "source": [
    "from pyspark.ml.classification import LogisticRegression"
   ]
  },
  {
   "cell_type": "code",
   "execution_count": 20,
   "id": "76092cc3",
   "metadata": {},
   "outputs": [],
   "source": [
    "lr_churn = LogisticRegression(labelCol='churn')"
   ]
  },
  {
   "cell_type": "code",
   "execution_count": 21,
   "id": "f707fe7a",
   "metadata": {},
   "outputs": [],
   "source": [
    "fitted_churn_model = lr_churn.fit(train_churn)"
   ]
  },
  {
   "cell_type": "code",
   "execution_count": 22,
   "id": "35fae14a",
   "metadata": {},
   "outputs": [],
   "source": [
    "training_sum = fitted_churn_model.summary"
   ]
  },
  {
   "cell_type": "code",
   "execution_count": 24,
   "id": "9b239cb6",
   "metadata": {},
   "outputs": [
    {
     "data": {
      "text/plain": [
       "0.8988941548183255"
      ]
     },
     "execution_count": 24,
     "metadata": {},
     "output_type": "execute_result"
    }
   ],
   "source": [
    "training_sum.accuracy"
   ]
  },
  {
   "cell_type": "code",
   "execution_count": 25,
   "id": "1b565088",
   "metadata": {},
   "outputs": [
    {
     "data": {
      "text/plain": [
       "0.9168737703220455"
      ]
     },
     "execution_count": 25,
     "metadata": {},
     "output_type": "execute_result"
    }
   ],
   "source": [
    "training_sum.areaUnderROC"
   ]
  },
  {
   "cell_type": "markdown",
   "id": "c1ed6121",
   "metadata": {},
   "source": [
    "Evaluate results"
   ]
  },
  {
   "cell_type": "code",
   "execution_count": 27,
   "id": "0819f719",
   "metadata": {},
   "outputs": [],
   "source": [
    "from pyspark.ml.evaluation import BinaryClassificationEvaluator"
   ]
  },
  {
   "cell_type": "code",
   "execution_count": 28,
   "id": "9c25d460",
   "metadata": {},
   "outputs": [],
   "source": [
    "pred_and_labels = fitted_churn_model.evaluate(test_churn)"
   ]
  },
  {
   "cell_type": "code",
   "execution_count": 29,
   "id": "78e2d49e",
   "metadata": {},
   "outputs": [
    {
     "data": {
      "text/plain": [
       "0.898876404494382"
      ]
     },
     "execution_count": 29,
     "metadata": {},
     "output_type": "execute_result"
    }
   ],
   "source": [
    "pred_and_labels.accuracy"
   ]
  },
  {
   "cell_type": "code",
   "execution_count": 30,
   "id": "a36104fc",
   "metadata": {},
   "outputs": [
    {
     "data": {
      "text/plain": [
       "0.8814102564102574"
      ]
     },
     "execution_count": 30,
     "metadata": {},
     "output_type": "execute_result"
    }
   ],
   "source": [
    "pred_and_labels.areaUnderROC"
   ]
  },
  {
   "cell_type": "code",
   "execution_count": 31,
   "id": "3d1d655f",
   "metadata": {},
   "outputs": [
    {
     "name": "stdout",
     "output_type": "stream",
     "text": [
      "+--------------------+-----+--------------------+--------------------+----------+\n",
      "|            features|churn|       rawPrediction|         probability|prediction|\n",
      "+--------------------+-----+--------------------+--------------------+----------+\n",
      "|[22.0,11254.38,1....|    0|[4.75457996697447...|[0.99146137469279...|       0.0|\n",
      "|[28.0,9090.43,1.0...|    0|[1.59643508465957...|[0.83151954914534...|       0.0|\n",
      "|[29.0,8688.17,1.0...|    1|[2.78565828799715...|[0.94189588677967...|       0.0|\n",
      "|[29.0,10203.18,1....|    0|[3.79913558084852...|[0.97810022070121...|       0.0|\n",
      "|[29.0,11274.46,1....|    0|[4.6658409019921,...|[0.99067641644169...|       0.0|\n",
      "|[29.0,12711.15,0....|    0|[5.18399368667883...|[0.99442567256655...|       0.0|\n",
      "|[30.0,7960.64,1.0...|    1|[3.58875659460170...|[0.97311036467746...|       0.0|\n",
      "|[30.0,8677.28,1.0...|    0|[4.03055810282683...|[0.98254565340093...|       0.0|\n",
      "|[31.0,5387.75,0.0...|    0|[2.42407506355296...|[0.91864482062227...|       0.0|\n",
      "|[31.0,8829.83,1.0...|    0|[4.64492702941490...|[0.99048124652054...|       0.0|\n",
      "|[31.0,12264.68,1....|    0|[3.49009187786374...|[0.97040453462799...|       0.0|\n",
      "|[32.0,5756.12,0.0...|    0|[4.16244169273585...|[0.98466919731767...|       0.0|\n",
      "|[32.0,9036.27,0.0...|    0|[-0.4956247345588...|[0.37856942197538...|       1.0|\n",
      "|[32.0,9472.72,1.0...|    0|[4.52109454509124...|[0.98923992685562...|       0.0|\n",
      "|[32.0,11540.86,0....|    0|[6.92604432026659...|[0.99901908594883...|       0.0|\n",
      "|[32.0,12479.72,0....|    0|[4.53407413244752...|[0.98937721169480...|       0.0|\n",
      "|[33.0,7720.61,1.0...|    0|[1.89250290166245...|[0.86904064650474...|       0.0|\n",
      "|[33.0,10709.39,1....|    0|[6.31216606144430...|[0.99818918546841...|       0.0|\n",
      "|[34.0,7324.32,0.0...|    0|[0.99682890011057...|[0.73043464591145...|       0.0|\n",
      "|[34.0,9401.99,1.0...|    0|[0.69386602657236...|[0.66682639108189...|       0.0|\n",
      "+--------------------+-----+--------------------+--------------------+----------+\n",
      "only showing top 20 rows\n",
      "\n"
     ]
    }
   ],
   "source": [
    "pred_and_labels.predictions.show()"
   ]
  },
  {
   "cell_type": "markdown",
   "id": "638edf59",
   "metadata": {},
   "source": [
    "Using AUC"
   ]
  },
  {
   "cell_type": "code",
   "execution_count": 32,
   "id": "2ebea833",
   "metadata": {},
   "outputs": [],
   "source": [
    "churn_eval = BinaryClassificationEvaluator(rawPredictionCol = 'prediction',labelCol='churn')"
   ]
  },
  {
   "cell_type": "code",
   "execution_count": 33,
   "id": "96f009ad",
   "metadata": {},
   "outputs": [],
   "source": [
    "auc=churn_eval.evaluate(pred_and_labels.predictions)"
   ]
  },
  {
   "cell_type": "code",
   "execution_count": 35,
   "id": "596c54a2",
   "metadata": {},
   "outputs": [
    {
     "data": {
      "text/plain": [
       "0.7388663967611335"
      ]
     },
     "execution_count": 35,
     "metadata": {},
     "output_type": "execute_result"
    }
   ],
   "source": [
    "auc"
   ]
  },
  {
   "cell_type": "markdown",
   "id": "8bfa0b89",
   "metadata": {},
   "source": [
    "# predict on new data"
   ]
  },
  {
   "cell_type": "code",
   "execution_count": 36,
   "id": "44b67784",
   "metadata": {},
   "outputs": [],
   "source": [
    "final_lr_model = lr_churn.fit(final_data)"
   ]
  },
  {
   "cell_type": "code",
   "execution_count": 38,
   "id": "f87c8403",
   "metadata": {},
   "outputs": [],
   "source": [
    "new_customers = spark.read.csv('logisticregressiondata/new_customer_churn.csv',inferSchema=True,header=True)\n"
   ]
  },
  {
   "cell_type": "code",
   "execution_count": 39,
   "id": "0742d06a",
   "metadata": {},
   "outputs": [
    {
     "name": "stdout",
     "output_type": "stream",
     "text": [
      "root\n",
      " |-- Names: string (nullable = true)\n",
      " |-- Age: integer (nullable = true)\n",
      " |-- Total_Purchase: double (nullable = true)\n",
      " |-- Account_Manager: integer (nullable = true)\n",
      " |-- Years: double (nullable = true)\n",
      " |-- Num_Sites: integer (nullable = true)\n",
      " |-- Onboard_date: string (nullable = true)\n",
      " |-- Location: string (nullable = true)\n",
      " |-- Company: string (nullable = true)\n",
      "\n"
     ]
    }
   ],
   "source": [
    "new_customers.printSchema()"
   ]
  },
  {
   "cell_type": "code",
   "execution_count": 41,
   "id": "492bb102",
   "metadata": {},
   "outputs": [],
   "source": [
    "test_new_customers = assembler.transform(new_customers)"
   ]
  },
  {
   "cell_type": "code",
   "execution_count": 42,
   "id": "b0a105e8",
   "metadata": {},
   "outputs": [
    {
     "name": "stdout",
     "output_type": "stream",
     "text": [
      "root\n",
      " |-- Names: string (nullable = true)\n",
      " |-- Age: integer (nullable = true)\n",
      " |-- Total_Purchase: double (nullable = true)\n",
      " |-- Account_Manager: integer (nullable = true)\n",
      " |-- Years: double (nullable = true)\n",
      " |-- Num_Sites: integer (nullable = true)\n",
      " |-- Onboard_date: string (nullable = true)\n",
      " |-- Location: string (nullable = true)\n",
      " |-- Company: string (nullable = true)\n",
      " |-- features: vector (nullable = true)\n",
      "\n"
     ]
    }
   ],
   "source": [
    "test_new_customers.printSchema()"
   ]
  },
  {
   "cell_type": "code",
   "execution_count": 43,
   "id": "88cd9114",
   "metadata": {},
   "outputs": [],
   "source": [
    "final_results = final_lr_model.transform(test_new_customers)"
   ]
  },
  {
   "cell_type": "code",
   "execution_count": 45,
   "id": "6ced9663",
   "metadata": {},
   "outputs": [
    {
     "name": "stdout",
     "output_type": "stream",
     "text": [
      "+--------------------+----------+\n",
      "|             company|prediction|\n",
      "+--------------------+----------+\n",
      "|          Harvey LLC|       0.0|\n",
      "|          Wilson PLC|       1.0|\n",
      "|Miller, Johnson a...|       1.0|\n",
      "|           Smith Inc|       0.0|\n",
      "|          Love-Jones|       0.0|\n",
      "|        Kelly-Warren|       0.0|\n",
      "|   Reynolds-Sheppard|       1.0|\n",
      "|          Singh-Cole|       0.0|\n",
      "|           Lopez PLC|       1.0|\n",
      "|       Reed-Martinez|       1.0|\n",
      "|Briggs, Lamb and ...|       0.0|\n",
      "|    Figueroa-Maynard|       1.0|\n",
      "|     Abbott-Thompson|       1.0|\n",
      "|Smith, Kim and Ma...|       1.0|\n",
      "|Snyder, Lee and M...|       0.0|\n",
      "|      Sanders-Pierce|       1.0|\n",
      "|Andrews, Adams an...|       1.0|\n",
      "|Morgan, Phillips ...|       1.0|\n",
      "|      Villanueva LLC|       0.0|\n",
      "|Berry, Orr and Ca...|       0.0|\n",
      "+--------------------+----------+\n",
      "only showing top 20 rows\n",
      "\n"
     ]
    }
   ],
   "source": [
    "final_results.select('company','prediction').show()"
   ]
  },
  {
   "cell_type": "code",
   "execution_count": null,
   "id": "e770d576",
   "metadata": {},
   "outputs": [],
   "source": []
  }
 ],
 "metadata": {
  "kernelspec": {
   "display_name": "Python 3 (ipykernel)",
   "language": "python",
   "name": "python3"
  },
  "language_info": {
   "codemirror_mode": {
    "name": "ipython",
    "version": 3
   },
   "file_extension": ".py",
   "mimetype": "text/x-python",
   "name": "python",
   "nbconvert_exporter": "python",
   "pygments_lexer": "ipython3",
   "version": "3.9.12"
  }
 },
 "nbformat": 4,
 "nbformat_minor": 5
}
