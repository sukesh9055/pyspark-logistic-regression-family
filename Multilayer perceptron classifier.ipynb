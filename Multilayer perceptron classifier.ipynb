{
 "cells": [
  {
   "cell_type": "code",
   "execution_count": 1,
   "id": "8be058fa",
   "metadata": {},
   "outputs": [],
   "source": [
    "import findspark\n",
    "findspark.init()"
   ]
  },
  {
   "cell_type": "code",
   "execution_count": 3,
   "id": "c55536df",
   "metadata": {},
   "outputs": [],
   "source": [
    "import os\n",
    "import numpy as np\n",
    "import pandas as pd\n",
    "from pyspark.sql.types import *"
   ]
  },
  {
   "cell_type": "code",
   "execution_count": 4,
   "id": "8bf9742b",
   "metadata": {},
   "outputs": [],
   "source": [
    "from pyspark.sql import SparkSession"
   ]
  },
  {
   "cell_type": "code",
   "execution_count": 5,
   "id": "6bfb3b0f",
   "metadata": {},
   "outputs": [],
   "source": [
    "spark = SparkSession.builder.appName(\"featureselector\").getOrCreate()"
   ]
  },
  {
   "cell_type": "code",
   "execution_count": 6,
   "id": "d84623f3",
   "metadata": {},
   "outputs": [],
   "source": [
    "df =spark.read.csv(\"newd/dl_data.csv\",inferSchema=True,header=True)"
   ]
  },
  {
   "cell_type": "code",
   "execution_count": 7,
   "id": "6d83f7e2",
   "metadata": {},
   "outputs": [
    {
     "name": "stdout",
     "output_type": "stream",
     "text": [
      "root\n",
      " |-- Visit_Number_Bucket: string (nullable = true)\n",
      " |-- Page_Views_Normalized: double (nullable = true)\n",
      " |-- Orders_Normalized: integer (nullable = true)\n",
      " |-- Internal_Search_Successful_Normalized: double (nullable = true)\n",
      " |-- Internal_Search_Null_Normalized: double (nullable = true)\n",
      " |-- Email_Signup_Normalized: double (nullable = true)\n",
      " |-- Total_Seconds_Spent_Normalized: double (nullable = true)\n",
      " |-- Store_Locator_Search_Normalized: double (nullable = true)\n",
      " |-- Mapped_Last_Touch_Channel: string (nullable = true)\n",
      " |-- Mapped_Mobile_Device_Type: string (nullable = true)\n",
      " |-- Mapped_Browser_Type: string (nullable = true)\n",
      " |-- Mapped_Entry_Pages: string (nullable = true)\n",
      " |-- Mapped_Site_Section: string (nullable = true)\n",
      " |-- Mapped_Promo_Code: string (nullable = true)\n",
      " |-- Maped_Product_Name: string (nullable = true)\n",
      " |-- Mapped_Search_Term: string (nullable = true)\n",
      " |-- Mapped_Product_Collection: string (nullable = true)\n",
      "\n"
     ]
    }
   ],
   "source": [
    "df.printSchema()"
   ]
  },
  {
   "cell_type": "code",
   "execution_count": 8,
   "id": "5f73f050",
   "metadata": {},
   "outputs": [],
   "source": [
    "df =df.withColumnRenamed(\"Orders_Normalized\",\"label\")"
   ]
  },
  {
   "cell_type": "code",
   "execution_count": 9,
   "id": "0c71bf5c",
   "metadata": {},
   "outputs": [
    {
     "data": {
      "text/plain": [
       "['Visit_Number_Bucket',\n",
       " 'Page_Views_Normalized',\n",
       " 'label',\n",
       " 'Internal_Search_Successful_Normalized',\n",
       " 'Internal_Search_Null_Normalized',\n",
       " 'Email_Signup_Normalized',\n",
       " 'Total_Seconds_Spent_Normalized',\n",
       " 'Store_Locator_Search_Normalized',\n",
       " 'Mapped_Last_Touch_Channel',\n",
       " 'Mapped_Mobile_Device_Type',\n",
       " 'Mapped_Browser_Type',\n",
       " 'Mapped_Entry_Pages',\n",
       " 'Mapped_Site_Section',\n",
       " 'Mapped_Promo_Code',\n",
       " 'Maped_Product_Name',\n",
       " 'Mapped_Search_Term',\n",
       " 'Mapped_Product_Collection']"
      ]
     },
     "execution_count": 9,
     "metadata": {},
     "output_type": "execute_result"
    }
   ],
   "source": [
    "df.columns"
   ]
  },
  {
   "cell_type": "code",
   "execution_count": 10,
   "id": "fcd8b6d4",
   "metadata": {},
   "outputs": [],
   "source": [
    "from pyspark.ml.feature import OneHotEncoder,VectorAssembler,StringIndexer"
   ]
  },
  {
   "cell_type": "code",
   "execution_count": 11,
   "id": "933dbb27",
   "metadata": {},
   "outputs": [],
   "source": [
    "from pyspark.ml import Pipeline"
   ]
  },
  {
   "cell_type": "code",
   "execution_count": 12,
   "id": "ad6fe534",
   "metadata": {},
   "outputs": [],
   "source": [
    "from pyspark.sql.functions import udf, StringType\n",
    "from pyspark.ml.evaluation import MulticlassClassificationEvaluator\n",
    "from pyspark.ml.classification import MultilayerPerceptronClassifier"
   ]
  },
  {
   "cell_type": "markdown",
   "id": "b9033cb1",
   "metadata": {},
   "source": [
    "### Split into Train and Test Sets"
   ]
  },
  {
   "cell_type": "code",
   "execution_count": 13,
   "id": "d9273206",
   "metadata": {},
   "outputs": [],
   "source": [
    "train,validation,test = df.randomSplit([0.7,0.2,0.1],1234)"
   ]
  },
  {
   "cell_type": "markdown",
   "id": "fe052673",
   "metadata": {},
   "source": [
    "### Data Preprocessing"
   ]
  },
  {
   "cell_type": "code",
   "execution_count": 15,
   "id": "50aebd56",
   "metadata": {},
   "outputs": [],
   "source": [
    "cat_columns= [item[0] for item in df.dtypes if item[1].startswith('string')]\n",
    "num_columns = [item[0] for item in df.dtypes if item[1].startswith('double')]\n",
    "indexers= [StringIndexer(inputCol=column,outputCol='{0}_index)'.format(column)) for column in cat_columns]"
   ]
  },
  {
   "cell_type": "code",
   "execution_count": 16,
   "id": "dc4a3d05",
   "metadata": {},
   "outputs": [],
   "source": [
    "featured=VectorAssembler(inputCols=[indexer.getOutputCol() for indexer in indexers] + num_columns,outputCol=\"features\")"
   ]
  },
  {
   "cell_type": "markdown",
   "id": "d3e94718",
   "metadata": {},
   "source": [
    "### Model Building"
   ]
  },
  {
   "cell_type": "code",
   "execution_count": 20,
   "id": "644909d6",
   "metadata": {},
   "outputs": [],
   "source": [
    "layers = [len(featured.getInputCols()), 4, 2, 2]\n"
   ]
  },
  {
   "cell_type": "code",
   "execution_count": 21,
   "id": "e80bd05b",
   "metadata": {},
   "outputs": [],
   "source": [
    "classifier = MultilayerPerceptronClassifier(labelCol=\"label\",featuresCol=\"features\",maxIter=100,layers=layers,blockSize=128,seed=123)"
   ]
  },
  {
   "cell_type": "code",
   "execution_count": 22,
   "id": "f6aa5885",
   "metadata": {},
   "outputs": [],
   "source": [
    "pipeline = Pipeline(stages=indexers + [featured, classifier])\n",
    "model = pipeline.fit(train)"
   ]
  },
  {
   "cell_type": "code",
   "execution_count": 23,
   "id": "09e3f4af",
   "metadata": {},
   "outputs": [],
   "source": [
    "train_output_df = model.transform(train)\n",
    "validation_output_df = model.transform(validation)\n",
    "test_output_df = model.transform(test)"
   ]
  },
  {
   "cell_type": "code",
   "execution_count": 24,
   "id": "fc0b2ce0",
   "metadata": {},
   "outputs": [],
   "source": [
    "train_predictionAndLabels = train_output_df.select('prediction', 'label')\n",
    "validation_predictionAndLabels = validation_output_df.select('prediction', 'label')\n",
    "test_predictionAndLabels = test_output_df.select('prediction', 'label')"
   ]
  },
  {
   "cell_type": "markdown",
   "id": "652ac15b",
   "metadata": {},
   "source": [
    "### Model Evaluation"
   ]
  },
  {
   "cell_type": "code",
   "execution_count": 25,
   "id": "c4da3b75",
   "metadata": {},
   "outputs": [
    {
     "name": "stdout",
     "output_type": "stream",
     "text": [
      "Train weightedPrecision = 0.9730591604209184\n",
      "Validation weightedPrecision = 0.9757287562606041\n",
      "Test weightedPrecision = 0.974310573777863\n",
      "Train weightedRecall = 0.9723427015462414\n",
      "Validation weightedRecall = 0.9751811841925339\n",
      "Test weightedRecall = 0.9738114423851733\n",
      "Train accuracy = 0.9723427015462414\n",
      "Validation accuracy = 0.9751811841925339\n",
      "Test accuracy = 0.9738114423851733\n"
     ]
    }
   ],
   "source": [
    "metrics = ['weightedPrecision', 'weightedRecall', 'accuracy']\n",
    "for metric in metrics:\n",
    "        evaluator = MulticlassClassificationEvaluator(metricName=metric)\n",
    "        print('Train ' + metric + ' = ' + str(evaluator.evaluate(\n",
    "            train_predictionAndLabels)))\n",
    "        print('Validation ' + metric + ' = ' + str(evaluator.evaluate(\n",
    "            validation_predictionAndLabels)))\n",
    "        print('Test ' + metric + ' = ' + str(evaluator.evaluate(\n",
    "            test_predictionAndLabels)))"
   ]
  },
  {
   "cell_type": "code",
   "execution_count": null,
   "id": "866f9fc0",
   "metadata": {},
   "outputs": [],
   "source": []
  }
 ],
 "metadata": {
  "kernelspec": {
   "display_name": "Python 3 (ipykernel)",
   "language": "python",
   "name": "python3"
  },
  "language_info": {
   "codemirror_mode": {
    "name": "ipython",
    "version": 3
   },
   "file_extension": ".py",
   "mimetype": "text/x-python",
   "name": "python",
   "nbconvert_exporter": "python",
   "pygments_lexer": "ipython3",
   "version": "3.9.12"
  }
 },
 "nbformat": 4,
 "nbformat_minor": 5
}
