{
 "cells": [
  {
   "cell_type": "code",
   "execution_count": 1,
   "id": "03fc51a8",
   "metadata": {},
   "outputs": [],
   "source": [
    "import findspark\n",
    "findspark.init()"
   ]
  },
  {
   "cell_type": "code",
   "execution_count": 2,
   "id": "d2a919a8",
   "metadata": {},
   "outputs": [],
   "source": [
    "from pyspark.sql import SparkSession"
   ]
  },
  {
   "cell_type": "code",
   "execution_count": 3,
   "id": "970ff5b4",
   "metadata": {},
   "outputs": [],
   "source": [
    "spark = SparkSession.builder.appName('mylogreg').getOrCreate()"
   ]
  },
  {
   "cell_type": "code",
   "execution_count": 4,
   "id": "765b21a5",
   "metadata": {},
   "outputs": [],
   "source": [
    "from pyspark.ml.classification import LogisticRegression"
   ]
  },
  {
   "cell_type": "code",
   "execution_count": 5,
   "id": "5fcfb8b1",
   "metadata": {},
   "outputs": [],
   "source": [
    "my_data = spark.read.format('libsvm').load('logisticregressiondata/sample_libsvm_data.txt')"
   ]
  },
  {
   "cell_type": "code",
   "execution_count": 6,
   "id": "c2ae54b0",
   "metadata": {},
   "outputs": [
    {
     "name": "stdout",
     "output_type": "stream",
     "text": [
      "+-----+--------------------+\n",
      "|label|            features|\n",
      "+-----+--------------------+\n",
      "|  0.0|(692,[127,128,129...|\n",
      "|  1.0|(692,[158,159,160...|\n",
      "|  1.0|(692,[124,125,126...|\n",
      "|  1.0|(692,[152,153,154...|\n",
      "|  1.0|(692,[151,152,153...|\n",
      "|  0.0|(692,[129,130,131...|\n",
      "|  1.0|(692,[158,159,160...|\n",
      "|  1.0|(692,[99,100,101,...|\n",
      "|  0.0|(692,[154,155,156...|\n",
      "|  0.0|(692,[127,128,129...|\n",
      "|  1.0|(692,[154,155,156...|\n",
      "|  0.0|(692,[153,154,155...|\n",
      "|  0.0|(692,[151,152,153...|\n",
      "|  1.0|(692,[129,130,131...|\n",
      "|  0.0|(692,[154,155,156...|\n",
      "|  1.0|(692,[150,151,152...|\n",
      "|  0.0|(692,[124,125,126...|\n",
      "|  0.0|(692,[152,153,154...|\n",
      "|  1.0|(692,[97,98,99,12...|\n",
      "|  1.0|(692,[124,125,126...|\n",
      "+-----+--------------------+\n",
      "only showing top 20 rows\n",
      "\n"
     ]
    }
   ],
   "source": [
    "my_data.show()"
   ]
  },
  {
   "cell_type": "code",
   "execution_count": 7,
   "id": "2ee9472f",
   "metadata": {},
   "outputs": [],
   "source": [
    "my_log_reg_model = LogisticRegression(maxIter=10, regParam=0.3, elasticNetParam=0.8)"
   ]
  },
  {
   "cell_type": "code",
   "execution_count": 8,
   "id": "31d96ae6",
   "metadata": {},
   "outputs": [],
   "source": [
    "fitted_logreg=  my_log_reg_model.fit(my_data)"
   ]
  },
  {
   "cell_type": "code",
   "execution_count": 9,
   "id": "24061393",
   "metadata": {},
   "outputs": [],
   "source": [
    "log_summary = fitted_logreg.summary"
   ]
  },
  {
   "cell_type": "code",
   "execution_count": 10,
   "id": "fc052c10",
   "metadata": {},
   "outputs": [
    {
     "name": "stdout",
     "output_type": "stream",
     "text": [
      "root\n",
      " |-- label: double (nullable = true)\n",
      " |-- features: vector (nullable = true)\n",
      " |-- rawPrediction: vector (nullable = true)\n",
      " |-- probability: vector (nullable = true)\n",
      " |-- prediction: double (nullable = false)\n",
      "\n"
     ]
    }
   ],
   "source": [
    "log_summary.predictions.printSchema()"
   ]
  },
  {
   "cell_type": "code",
   "execution_count": 11,
   "id": "d5c0aa84",
   "metadata": {},
   "outputs": [
    {
     "name": "stdout",
     "output_type": "stream",
     "text": [
      "+-----+--------------------+--------------------+--------------------+----------+\n",
      "|label|            features|       rawPrediction|         probability|prediction|\n",
      "+-----+--------------------+--------------------+--------------------+----------+\n",
      "|  0.0|(692,[127,128,129...|[0.73765439548910...|[0.67648272431605...|       0.0|\n",
      "|  1.0|(692,[158,159,160...|[-1.2286964884747...|[0.22640965216205...|       1.0|\n",
      "|  1.0|(692,[124,125,126...|[-1.2596645795726...|[0.22103163838284...|       1.0|\n",
      "|  1.0|(692,[152,153,154...|[-1.0845333752697...|[0.25264907653471...|       1.0|\n",
      "+-----+--------------------+--------------------+--------------------+----------+\n",
      "only showing top 4 rows\n",
      "\n"
     ]
    }
   ],
   "source": [
    "log_summary.predictions.show(4)"
   ]
  },
  {
   "cell_type": "code",
   "execution_count": 12,
   "id": "c2e99336",
   "metadata": {},
   "outputs": [],
   "source": [
    "lr_train,lr_test=my_data.randomSplit([0.7,0.3])"
   ]
  },
  {
   "cell_type": "code",
   "execution_count": 13,
   "id": "5c94bce0",
   "metadata": {},
   "outputs": [],
   "source": [
    "final_model = LogisticRegression()"
   ]
  },
  {
   "cell_type": "code",
   "execution_count": 14,
   "id": "a6a332bb",
   "metadata": {},
   "outputs": [],
   "source": [
    "fit_final= final_model.fit(lr_train)"
   ]
  },
  {
   "cell_type": "code",
   "execution_count": 15,
   "id": "e3ee3a28",
   "metadata": {},
   "outputs": [],
   "source": [
    "predictions_and_labels = fit_final.evaluate(lr_test)"
   ]
  },
  {
   "cell_type": "code",
   "execution_count": 16,
   "id": "bcd4d766",
   "metadata": {},
   "outputs": [
    {
     "name": "stdout",
     "output_type": "stream",
     "text": [
      "+-----+--------------------+--------------------+--------------------+----------+\n",
      "|label|            features|       rawPrediction|         probability|prediction|\n",
      "+-----+--------------------+--------------------+--------------------+----------+\n",
      "|  0.0|(692,[100,101,102...|[10.0491527584149...|[0.99995677951476...|       0.0|\n",
      "|  0.0|(692,[123,124,125...|[22.5116404201861...|[0.99999999983276...|       0.0|\n",
      "|  0.0|(692,[125,126,127...|[21.1219622298693...|[0.99999999932880...|       0.0|\n",
      "|  0.0|(692,[126,127,128...|[32.7706044033438...|[0.99999999999999...|       0.0|\n",
      "|  0.0|(692,[129,130,131...|[16.7308412037323...|[0.99999994581389...|       0.0|\n",
      "+-----+--------------------+--------------------+--------------------+----------+\n",
      "only showing top 5 rows\n",
      "\n"
     ]
    }
   ],
   "source": [
    "predictions_and_labels.predictions.show(5)"
   ]
  },
  {
   "cell_type": "markdown",
   "id": "e03fca4e",
   "metadata": {},
   "source": [
    "### multinomial family for binary classification"
   ]
  },
  {
   "cell_type": "code",
   "execution_count": 17,
   "id": "546b8877",
   "metadata": {},
   "outputs": [
    {
     "name": "stdout",
     "output_type": "stream",
     "text": [
      "+-----+--------------------+--------------------+--------------------+----------+\n",
      "|label|            features|       rawPrediction|         probability|prediction|\n",
      "+-----+--------------------+--------------------+--------------------+----------+\n",
      "|  0.0|(692,[100,101,102...|[-0.0981170837006...|[0.45109828252169...|       1.0|\n",
      "|  0.0|(692,[123,124,125...|[0.26507871812246...|[0.62951983072342...|       0.0|\n",
      "|  0.0|(692,[125,126,127...|[0.35980502275355...|[0.67252114065069...|       0.0|\n",
      "|  0.0|(692,[126,127,128...|[0.51364981230163...|[0.73639203691089...|       0.0|\n",
      "|  0.0|(692,[129,130,131...|[0.39463938716916...|[0.68767644847283...|       0.0|\n",
      "+-----+--------------------+--------------------+--------------------+----------+\n",
      "only showing top 5 rows\n",
      "\n"
     ]
    }
   ],
   "source": [
    "mlr = LogisticRegression(maxIter=10,regParam=0.3,elasticNetParam=0.8,family=\"multinomial\")\n",
    "mlrmodel = mlr.fit(lr_train)\n",
    "pred_mlrmodel=mlrmodel.evaluate(lr_test)\n",
    "pred_mlrmodel.predictions.show(5)"
   ]
  },
  {
   "cell_type": "code",
   "execution_count": 18,
   "id": "1c649bbc",
   "metadata": {},
   "outputs": [],
   "source": [
    "from pyspark.ml.evaluation import (BinaryClassificationEvaluator,\n",
    "                                  MulticlassClassificationEvaluator)"
   ]
  },
  {
   "cell_type": "code",
   "execution_count": 19,
   "id": "9d3d752a",
   "metadata": {},
   "outputs": [],
   "source": [
    "my_eval = BinaryClassificationEvaluator()"
   ]
  },
  {
   "cell_type": "code",
   "execution_count": 20,
   "id": "54b92e19",
   "metadata": {},
   "outputs": [],
   "source": [
    "my_final_roc=my_eval.evaluate(predictions_and_labels.predictions)"
   ]
  },
  {
   "cell_type": "code",
   "execution_count": 21,
   "id": "2a7d27cd",
   "metadata": {},
   "outputs": [],
   "source": [
    "my_final_roc1=my_eval.evaluate(pred_mlrmodel.predictions)"
   ]
  },
  {
   "cell_type": "code",
   "execution_count": 22,
   "id": "cfd856f4",
   "metadata": {},
   "outputs": [
    {
     "data": {
      "text/plain": [
       "1.0"
      ]
     },
     "execution_count": 22,
     "metadata": {},
     "output_type": "execute_result"
    }
   ],
   "source": [
    "my_final_roc1"
   ]
  },
  {
   "cell_type": "code",
   "execution_count": 23,
   "id": "f1576102",
   "metadata": {},
   "outputs": [
    {
     "data": {
      "text/plain": [
       "1.0"
      ]
     },
     "execution_count": 23,
     "metadata": {},
     "output_type": "execute_result"
    }
   ],
   "source": [
    "my_final_roc"
   ]
  },
  {
   "cell_type": "code",
   "execution_count": 24,
   "id": "caba736b",
   "metadata": {},
   "outputs": [
    {
     "data": {
      "text/plain": [
       "1.0"
      ]
     },
     "execution_count": 24,
     "metadata": {},
     "output_type": "execute_result"
    }
   ],
   "source": [
    "my_final_roc.real"
   ]
  }
 ],
 "metadata": {
  "kernelspec": {
   "display_name": "Python 3 (ipykernel)",
   "language": "python",
   "name": "python3"
  },
  "language_info": {
   "codemirror_mode": {
    "name": "ipython",
    "version": 3
   },
   "file_extension": ".py",
   "mimetype": "text/x-python",
   "name": "python",
   "nbconvert_exporter": "python",
   "pygments_lexer": "ipython3",
   "version": "3.9.12"
  }
 },
 "nbformat": 4,
 "nbformat_minor": 5
}
