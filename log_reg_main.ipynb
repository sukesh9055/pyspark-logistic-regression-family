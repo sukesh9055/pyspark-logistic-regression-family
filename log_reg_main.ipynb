{
 "cells": [
  {
   "cell_type": "code",
   "execution_count": 1,
   "id": "860bd8e4",
   "metadata": {},
   "outputs": [],
   "source": [
    "import findspark\n",
    "findspark.init()"
   ]
  },
  {
   "cell_type": "code",
   "execution_count": 2,
   "id": "eee43c84",
   "metadata": {},
   "outputs": [],
   "source": [
    "from pyspark.sql import SparkSession\n",
    "spark=SparkSession.builder.appName(\"lin_reg\").getOrCreate()"
   ]
  },
  {
   "cell_type": "code",
   "execution_count": 3,
   "id": "ba0c3786",
   "metadata": {},
   "outputs": [],
   "source": [
    "df = spark.read.csv(\"logisticregressiondata/Log_Reg_dataset.csv\",inferSchema=True,header=True)"
   ]
  },
  {
   "cell_type": "code",
   "execution_count": 4,
   "id": "5b35f1a9",
   "metadata": {},
   "outputs": [
    {
     "name": "stdout",
     "output_type": "stream",
     "text": [
      "(20000, 6)\n"
     ]
    }
   ],
   "source": [
    "print((df.count(),len(df.columns)))"
   ]
  },
  {
   "cell_type": "markdown",
   "id": "e1678997",
   "metadata": {},
   "source": [
    "### EDA"
   ]
  },
  {
   "cell_type": "code",
   "execution_count": 6,
   "id": "f453ad02",
   "metadata": {},
   "outputs": [
    {
     "name": "stdout",
     "output_type": "stream",
     "text": [
      "root\n",
      " |-- Country: string (nullable = true)\n",
      " |-- Age: integer (nullable = true)\n",
      " |-- Repeat_Visitor: integer (nullable = true)\n",
      " |-- Platform: string (nullable = true)\n",
      " |-- Web_pages_viewed: integer (nullable = true)\n",
      " |-- Status: integer (nullable = true)\n",
      "\n"
     ]
    }
   ],
   "source": [
    "df.printSchema()"
   ]
  },
  {
   "cell_type": "code",
   "execution_count": 7,
   "id": "b09adec2",
   "metadata": {},
   "outputs": [
    {
     "name": "stdout",
     "output_type": "stream",
     "text": [
      "+-------+-------+-----------------+-----------------+--------+-----------------+------------------+\n",
      "|summary|Country|Age              |Repeat_Visitor   |Platform|Web_pages_viewed |Status            |\n",
      "+-------+-------+-----------------+-----------------+--------+-----------------+------------------+\n",
      "|count  |20000  |20000            |20000            |20000   |20000            |20000             |\n",
      "|mean   |null   |28.53955         |0.5029           |null    |9.5533           |0.5               |\n",
      "|stddev |null   |7.888912950773227|0.500004090187782|null    |6.073903499824976|0.5000125004687693|\n",
      "|min    |Brazil |17               |0                |Bing    |1                |0                 |\n",
      "+-------+-------+-----------------+-----------------+--------+-----------------+------------------+\n",
      "only showing top 4 rows\n",
      "\n"
     ]
    }
   ],
   "source": [
    "df.describe().show(4,False)"
   ]
  },
  {
   "cell_type": "code",
   "execution_count": 13,
   "id": "5f9fb8f3",
   "metadata": {},
   "outputs": [
    {
     "name": "stdout",
     "output_type": "stream",
     "text": [
      "+--------+-----+\n",
      "|Platform|count|\n",
      "+--------+-----+\n",
      "|   Yahoo| 9859|\n",
      "|    Bing| 4360|\n",
      "|  Google| 5781|\n",
      "+--------+-----+\n",
      "\n"
     ]
    }
   ],
   "source": [
    "df.groupBy('Platform').count().show()"
   ]
  },
  {
   "cell_type": "markdown",
   "id": "9f149c08",
   "metadata": {},
   "source": [
    "### Feature Engineering"
   ]
  },
  {
   "cell_type": "code",
   "execution_count": 14,
   "id": "437d9711",
   "metadata": {},
   "outputs": [],
   "source": [
    "from pyspark.ml.feature import StringIndexer\n",
    "from pyspark.ml.feature import VectorAssembler"
   ]
  },
  {
   "cell_type": "code",
   "execution_count": 15,
   "id": "e9010e1b",
   "metadata": {},
   "outputs": [
    {
     "data": {
      "text/plain": [
       "['Country', 'Age', 'Repeat_Visitor', 'Platform', 'Web_pages_viewed', 'Status']"
      ]
     },
     "execution_count": 15,
     "metadata": {},
     "output_type": "execute_result"
    }
   ],
   "source": [
    "df.columns"
   ]
  },
  {
   "cell_type": "code",
   "execution_count": 16,
   "id": "6355147c",
   "metadata": {},
   "outputs": [],
   "source": [
    "search_engine_indexer = StringIndexer(inputCol=\"Platform\",outputCol=\"Platform_num\").fit(df)"
   ]
  },
  {
   "cell_type": "code",
   "execution_count": 17,
   "id": "26fc2c22",
   "metadata": {},
   "outputs": [],
   "source": [
    "df=search_engine_indexer.transform(df)"
   ]
  },
  {
   "cell_type": "code",
   "execution_count": 30,
   "id": "d79699f2",
   "metadata": {},
   "outputs": [
    {
     "name": "stdout",
     "output_type": "stream",
     "text": [
      "+-------+---+--------------+--------+----------------+------+------------+\n",
      "|Country|Age|Repeat_Visitor|Platform|Web_pages_viewed|Status|Platform_num|\n",
      "+-------+---+--------------+--------+----------------+------+------------+\n",
      "|  India| 41|             1|   Yahoo|              21|     1|         0.0|\n",
      "| Brazil| 28|             1|   Yahoo|               5|     0|         0.0|\n",
      "| Brazil| 40|             0|  Google|               3|     0|         1.0|\n",
      "+-------+---+--------------+--------+----------------+------+------------+\n",
      "only showing top 3 rows\n",
      "\n"
     ]
    }
   ],
   "source": [
    "df.show(3)"
   ]
  },
  {
   "cell_type": "code",
   "execution_count": 20,
   "id": "e766b1f6",
   "metadata": {
    "scrolled": true
   },
   "outputs": [
    {
     "name": "stdout",
     "output_type": "stream",
     "text": [
      "+------------+-----+\n",
      "|Platform_num|count|\n",
      "+------------+-----+\n",
      "|         2.0| 4360|\n",
      "|         1.0| 5781|\n",
      "|         0.0| 9859|\n",
      "+------------+-----+\n",
      "\n"
     ]
    }
   ],
   "source": [
    "df.groupBy('Platform_num').count().orderBy('count',ascending=True).show()"
   ]
  },
  {
   "cell_type": "code",
   "execution_count": 21,
   "id": "e09af906",
   "metadata": {},
   "outputs": [],
   "source": [
    "from pyspark.ml.feature import OneHotEncoder"
   ]
  },
  {
   "cell_type": "code",
   "execution_count": 31,
   "id": "e9de1cc3",
   "metadata": {},
   "outputs": [],
   "source": [
    "encoder = OneHotEncoder(inputCol=\"Platform_num\",outputCol=\"P_vector\")\n",
    "encoder.setDropLast(False)\n",
    "ohe = encoder.fit(df) # indexer is the existing dataframe, see the question\n",
    "df = ohe.transform(df)"
   ]
  },
  {
   "cell_type": "code",
   "execution_count": 33,
   "id": "3b6541f6",
   "metadata": {},
   "outputs": [
    {
     "name": "stdout",
     "output_type": "stream",
     "text": [
      "+-------+---+--------------+--------+----------------+------+------------+-------------+\n",
      "|Country|Age|Repeat_Visitor|Platform|Web_pages_viewed|Status|Platform_num|     P_vector|\n",
      "+-------+---+--------------+--------+----------------+------+------------+-------------+\n",
      "|  India| 41|             1|   Yahoo|              21|     1|         0.0|(3,[0],[1.0])|\n",
      "| Brazil| 28|             1|   Yahoo|               5|     0|         0.0|(3,[0],[1.0])|\n",
      "| Brazil| 40|             0|  Google|               3|     0|         1.0|(3,[1],[1.0])|\n",
      "+-------+---+--------------+--------+----------------+------+------------+-------------+\n",
      "only showing top 3 rows\n",
      "\n"
     ]
    }
   ],
   "source": [
    "df.show(3)"
   ]
  },
  {
   "cell_type": "code",
   "execution_count": 35,
   "id": "13fbde64",
   "metadata": {},
   "outputs": [
    {
     "name": "stdout",
     "output_type": "stream",
     "text": [
      "+-------------+-----+\n",
      "|     P_vector|count|\n",
      "+-------------+-----+\n",
      "|(3,[0],[1.0])| 9859|\n",
      "|(3,[1],[1.0])| 5781|\n",
      "|(3,[2],[1.0])| 4360|\n",
      "+-------------+-----+\n",
      "\n"
     ]
    }
   ],
   "source": [
    "df.groupBy('P_vector').count().orderBy('count',ascending=False).show(5)"
   ]
  },
  {
   "cell_type": "code",
   "execution_count": 38,
   "id": "0d5dd4e7",
   "metadata": {},
   "outputs": [],
   "source": [
    "country_indexer = StringIndexer(inputCol='Country',outputCol=\"Country_Num\").fit(df)"
   ]
  },
  {
   "cell_type": "code",
   "execution_count": 39,
   "id": "38020e96",
   "metadata": {},
   "outputs": [],
   "source": [
    "df = country_indexer.transform(df)"
   ]
  },
  {
   "cell_type": "code",
   "execution_count": 41,
   "id": "339f1cd2",
   "metadata": {},
   "outputs": [
    {
     "name": "stdout",
     "output_type": "stream",
     "text": [
      "+---------+-----+\n",
      "|  Country|count|\n",
      "+---------+-----+\n",
      "|Indonesia|12178|\n",
      "|    India| 4018|\n",
      "|   Brazil| 2586|\n",
      "| Malaysia| 1218|\n",
      "+---------+-----+\n",
      "\n"
     ]
    }
   ],
   "source": [
    "df.groupBy('Country').count().orderBy('count',ascending=False).show()"
   ]
  },
  {
   "cell_type": "code",
   "execution_count": 43,
   "id": "8e9cbb48",
   "metadata": {},
   "outputs": [
    {
     "name": "stdout",
     "output_type": "stream",
     "text": [
      "+-----------+-----+\n",
      "|Country_Num|count|\n",
      "+-----------+-----+\n",
      "|        0.0|12178|\n",
      "|        1.0| 4018|\n",
      "|        2.0| 2586|\n",
      "|        3.0| 1218|\n",
      "+-----------+-----+\n",
      "\n"
     ]
    }
   ],
   "source": [
    "df.groupBy('Country_Num').count().orderBy('count',ascending=False).show()"
   ]
  },
  {
   "cell_type": "code",
   "execution_count": 44,
   "id": "a1d89ac3",
   "metadata": {},
   "outputs": [],
   "source": [
    "country_encoder = OneHotEncoder(inputCol=\"Country_Num\",outputCol=\"Country_Num_vector\")\n",
    "country_encoder.setDropLast(False)\n",
    "ohe = country_encoder.fit(df) # indexer is the existing dataframe, see the question\n",
    "df = ohe.transform(df)"
   ]
  },
  {
   "cell_type": "code",
   "execution_count": 46,
   "id": "0a383d0b",
   "metadata": {},
   "outputs": [
    {
     "name": "stdout",
     "output_type": "stream",
     "text": [
      "+-------+---+--------------+--------+----------------+------+------------+-------------+-----------+------------------+\n",
      "|Country|Age|Repeat_Visitor|Platform|Web_pages_viewed|Status|Platform_num|     P_vector|Country_Num|Country_Num_vector|\n",
      "+-------+---+--------------+--------+----------------+------+------------+-------------+-----------+------------------+\n",
      "|  India| 41|             1|   Yahoo|              21|     1|         0.0|(3,[0],[1.0])|        1.0|     (4,[1],[1.0])|\n",
      "+-------+---+--------------+--------+----------------+------+------------+-------------+-----------+------------------+\n",
      "only showing top 1 row\n",
      "\n"
     ]
    }
   ],
   "source": [
    "df.show(1)"
   ]
  },
  {
   "cell_type": "code",
   "execution_count": 50,
   "id": "5ff2b117",
   "metadata": {},
   "outputs": [
    {
     "name": "stdout",
     "output_type": "stream",
     "text": [
      "+------------------+-----+\n",
      "|Country_Num_vector|count|\n",
      "+------------------+-----+\n",
      "|     (4,[0],[1.0])|12178|\n",
      "|     (4,[1],[1.0])| 4018|\n",
      "|     (4,[2],[1.0])| 2586|\n",
      "|     (4,[3],[1.0])| 1218|\n",
      "+------------------+-----+\n",
      "\n"
     ]
    }
   ],
   "source": [
    "df.groupBy('Country_Num_vector').count().orderBy('count',ascending=False).show()"
   ]
  },
  {
   "cell_type": "code",
   "execution_count": 52,
   "id": "e60b2bfd",
   "metadata": {},
   "outputs": [],
   "source": [
    "from pyspark.ml.feature import VectorAssembler\n"
   ]
  },
  {
   "cell_type": "code",
   "execution_count": 55,
   "id": "941075d5",
   "metadata": {},
   "outputs": [
    {
     "data": {
      "text/plain": [
       "['Country',\n",
       " 'Age',\n",
       " 'Repeat_Visitor',\n",
       " 'Platform',\n",
       " 'Web_pages_viewed',\n",
       " 'Status',\n",
       " 'Platform_num',\n",
       " 'P_vector',\n",
       " 'Country_Num',\n",
       " 'Country_Num_vector']"
      ]
     },
     "execution_count": 55,
     "metadata": {},
     "output_type": "execute_result"
    }
   ],
   "source": [
    "df.columns"
   ]
  },
  {
   "cell_type": "code",
   "execution_count": 59,
   "id": "8f063e90",
   "metadata": {},
   "outputs": [],
   "source": [
    "df_assembler = VectorAssembler(inputCols=['P_vector','Country_Num_vector', 'Repeat_Visitor',\n",
    " 'Age',\n",
    " 'Web_pages_viewed'],outputCol = \"features\")"
   ]
  },
  {
   "cell_type": "code",
   "execution_count": 60,
   "id": "04c15b4e",
   "metadata": {},
   "outputs": [],
   "source": [
    "df = df_assembler.transform(df)"
   ]
  },
  {
   "cell_type": "code",
   "execution_count": 63,
   "id": "4911a5f2",
   "metadata": {},
   "outputs": [
    {
     "name": "stdout",
     "output_type": "stream",
     "text": [
      "root\n",
      " |-- Country: string (nullable = true)\n",
      " |-- Age: integer (nullable = true)\n",
      " |-- Repeat_Visitor: integer (nullable = true)\n",
      " |-- Platform: string (nullable = true)\n",
      " |-- Web_pages_viewed: integer (nullable = true)\n",
      " |-- Status: integer (nullable = true)\n",
      " |-- Platform_num: double (nullable = false)\n",
      " |-- P_vector: vector (nullable = true)\n",
      " |-- Country_Num: double (nullable = false)\n",
      " |-- Country_Num_vector: vector (nullable = true)\n",
      " |-- features: vector (nullable = true)\n",
      "\n"
     ]
    }
   ],
   "source": [
    "df.printSchema()"
   ]
  },
  {
   "cell_type": "code",
   "execution_count": 64,
   "id": "e024cf23",
   "metadata": {},
   "outputs": [
    {
     "name": "stdout",
     "output_type": "stream",
     "text": [
      "+--------------------+------+\n",
      "|            features|status|\n",
      "+--------------------+------+\n",
      "|(10,[0,4,7,8,9],[...|     1|\n",
      "|(10,[0,5,7,8,9],[...|     0|\n",
      "|(10,[1,5,8,9],[1....|     0|\n",
      "|(10,[2,3,7,8,9],[...|     1|\n",
      "|(10,[1,6,8,9],[1....|     1|\n",
      "|(10,[1,5,8,9],[1....|     0|\n",
      "|(10,[1,5,8,9],[1....|     0|\n",
      "|(10,[1,3,8,9],[1....|     0|\n",
      "|(10,[0,3,8,9],[1....|     0|\n",
      "|(10,[2,3,7,8,9],[...|     1|\n",
      "|(10,[1,6,7,8,9],[...|     1|\n",
      "|(10,[0,3,7,8,9],[...|     1|\n",
      "|(10,[0,3,7,8,9],[...|     1|\n",
      "|(10,[2,3,8,9],[1....|     0|\n",
      "|(10,[0,4,7,8,9],[...|     1|\n",
      "|(10,[2,3,8,9],[1....|     0|\n",
      "|(10,[0,3,7,8,9],[...|     1|\n",
      "|(10,[0,3,7,8,9],[...|     1|\n",
      "|(10,[0,6,8,9],[1....|     0|\n",
      "|(10,[1,3,8,9],[1....|     0|\n",
      "+--------------------+------+\n",
      "only showing top 20 rows\n",
      "\n"
     ]
    }
   ],
   "source": [
    "df.select('features','status').show()"
   ]
  },
  {
   "cell_type": "markdown",
   "id": "eabf9aa3",
   "metadata": {},
   "source": [
    "### Splitting the Dataset"
   ]
  },
  {
   "cell_type": "code",
   "execution_count": 65,
   "id": "04a7c668",
   "metadata": {},
   "outputs": [],
   "source": [
    "model_df = df.select(['features','Status'])"
   ]
  },
  {
   "cell_type": "code",
   "execution_count": 68,
   "id": "477ebd86",
   "metadata": {},
   "outputs": [],
   "source": [
    "train_df,test_df =model_df.randomSplit([0.75,0.25])"
   ]
  },
  {
   "cell_type": "code",
   "execution_count": 70,
   "id": "37b7d962",
   "metadata": {},
   "outputs": [
    {
     "data": {
      "text/plain": [
       "14994"
      ]
     },
     "execution_count": 70,
     "metadata": {},
     "output_type": "execute_result"
    }
   ],
   "source": [
    "train_df.count()"
   ]
  },
  {
   "cell_type": "code",
   "execution_count": 72,
   "id": "68cfe922",
   "metadata": {},
   "outputs": [
    {
     "name": "stdout",
     "output_type": "stream",
     "text": [
      "+------+-----+\n",
      "|Status|count|\n",
      "+------+-----+\n",
      "|     1| 7491|\n",
      "|     0| 7503|\n",
      "+------+-----+\n",
      "\n"
     ]
    }
   ],
   "source": [
    "train_df.groupBy('Status').count().show()"
   ]
  },
  {
   "cell_type": "markdown",
   "id": "1dd1e1c0",
   "metadata": {},
   "source": [
    "### Build and Train Logistic Regression Model"
   ]
  },
  {
   "cell_type": "code",
   "execution_count": 74,
   "id": "8d1ce210",
   "metadata": {},
   "outputs": [],
   "source": [
    "from pyspark.ml.classification import LogisticRegression"
   ]
  },
  {
   "cell_type": "code",
   "execution_count": 75,
   "id": "cc2d2e67",
   "metadata": {},
   "outputs": [],
   "source": [
    "log_reg=LogisticRegression(labelCol='Status').fit(train_df)"
   ]
  },
  {
   "cell_type": "code",
   "execution_count": 76,
   "id": "eb996ad0",
   "metadata": {},
   "outputs": [],
   "source": [
    "train_result = log_reg.evaluate(train_df).predictions"
   ]
  },
  {
   "cell_type": "code",
   "execution_count": 78,
   "id": "db58dfe9",
   "metadata": {},
   "outputs": [
    {
     "name": "stdout",
     "output_type": "stream",
     "text": [
      "+------+----------+--------------------+\n",
      "|Status|prediction|         probability|\n",
      "+------+----------+--------------------+\n",
      "|     1|       1.0|[0.42845950545094...|\n",
      "|     1|       1.0|[0.26065765891857...|\n",
      "|     1|       1.0|[0.26065765891857...|\n",
      "|     1|       1.0|[0.26065765891857...|\n",
      "|     1|       1.0|[0.14222064321610...|\n",
      "|     1|       1.0|[0.14222064321610...|\n",
      "|     1|       1.0|[0.07233374381514...|\n",
      "|     1|       1.0|[0.07233374381514...|\n",
      "|     1|       1.0|[0.07233374381514...|\n",
      "|     1|       1.0|[0.07233374381514...|\n",
      "+------+----------+--------------------+\n",
      "only showing top 10 rows\n",
      "\n"
     ]
    }
   ],
   "source": [
    "train_result.filter(train_result[\"Status\"]==1).filter(train_result['prediction']==1).select(['Status','prediction','probability']).show(10)"
   ]
  },
  {
   "cell_type": "markdown",
   "id": "d4ea684e",
   "metadata": {},
   "source": [
    "### Evaluate Linear Regression Model on Test Data"
   ]
  },
  {
   "cell_type": "code",
   "execution_count": 79,
   "id": "6ee5372d",
   "metadata": {},
   "outputs": [],
   "source": [
    "Result = log_reg.evaluate(test_df).predictions"
   ]
  },
  {
   "cell_type": "code",
   "execution_count": 80,
   "id": "72a93c0b",
   "metadata": {},
   "outputs": [
    {
     "name": "stdout",
     "output_type": "stream",
     "text": [
      "root\n",
      " |-- features: vector (nullable = true)\n",
      " |-- Status: integer (nullable = true)\n",
      " |-- rawPrediction: vector (nullable = true)\n",
      " |-- probability: vector (nullable = true)\n",
      " |-- prediction: double (nullable = false)\n",
      "\n"
     ]
    }
   ],
   "source": [
    "Result.printSchema()"
   ]
  },
  {
   "cell_type": "code",
   "execution_count": 81,
   "id": "ce4f8e45",
   "metadata": {},
   "outputs": [
    {
     "name": "stdout",
     "output_type": "stream",
     "text": [
      "+------+----------+\n",
      "|Status|prediction|\n",
      "+------+----------+\n",
      "|     0|       0.0|\n",
      "|     0|       0.0|\n",
      "|     0|       0.0|\n",
      "|     1|       0.0|\n",
      "|     1|       0.0|\n",
      "|     0|       1.0|\n",
      "|     1|       1.0|\n",
      "|     1|       1.0|\n",
      "|     1|       1.0|\n",
      "|     1|       1.0|\n",
      "|     1|       1.0|\n",
      "|     1|       1.0|\n",
      "|     1|       1.0|\n",
      "|     1|       1.0|\n",
      "|     1|       1.0|\n",
      "|     1|       1.0|\n",
      "|     1|       1.0|\n",
      "|     1|       1.0|\n",
      "|     1|       1.0|\n",
      "|     1|       1.0|\n",
      "+------+----------+\n",
      "only showing top 20 rows\n",
      "\n"
     ]
    }
   ],
   "source": [
    "Result.select(['Status','prediction']).show()"
   ]
  },
  {
   "cell_type": "code",
   "execution_count": 82,
   "id": "a4ee9a2e",
   "metadata": {},
   "outputs": [],
   "source": [
    "tp = Result[(Result.Status == 1) & (Result.prediction \n",
    "== 1)].count()"
   ]
  },
  {
   "cell_type": "code",
   "execution_count": 84,
   "id": "aaf0bea3",
   "metadata": {},
   "outputs": [],
   "source": [
    "tn = Result[(Result.Status == 0) & (Result.prediction \n",
    "== 0)].count()"
   ]
  },
  {
   "cell_type": "code",
   "execution_count": 85,
   "id": "43afce6d",
   "metadata": {},
   "outputs": [],
   "source": [
    "fp = Result[(Result.Status == 0) & (Result.prediction \n",
    "== 1)].count()"
   ]
  },
  {
   "cell_type": "code",
   "execution_count": 88,
   "id": "8704acd8",
   "metadata": {},
   "outputs": [],
   "source": [
    "fn = Result[(Result.Status == 1) & (Result.prediction \n",
    "== 0)].count()"
   ]
  },
  {
   "cell_type": "code",
   "execution_count": 90,
   "id": "70902e1f",
   "metadata": {},
   "outputs": [],
   "source": [
    "accuracy=float((tp+tn) /(Result.\n",
    "count()))"
   ]
  },
  {
   "cell_type": "code",
   "execution_count": 91,
   "id": "bb0240d3",
   "metadata": {},
   "outputs": [
    {
     "name": "stdout",
     "output_type": "stream",
     "text": [
      "0.9388733519776269\n"
     ]
    }
   ],
   "source": [
    "print(accuracy)"
   ]
  },
  {
   "cell_type": "code",
   "execution_count": 92,
   "id": "63746232",
   "metadata": {},
   "outputs": [
    {
     "name": "stdout",
     "output_type": "stream",
     "text": [
      "0.9382223993622958\n"
     ]
    }
   ],
   "source": [
    "recall = float(tp)/(tp +fn)\n",
    "print(recall)"
   ]
  },
  {
   "cell_type": "code",
   "execution_count": 93,
   "id": "df784455",
   "metadata": {},
   "outputs": [
    {
     "name": "stdout",
     "output_type": "stream",
     "text": [
      "0.9397205588822355\n"
     ]
    }
   ],
   "source": [
    "precision = float(tp) / (tp+ fp)\n",
    "print(precision)"
   ]
  },
  {
   "cell_type": "code",
   "execution_count": null,
   "id": "c55b13fc",
   "metadata": {},
   "outputs": [],
   "source": []
  }
 ],
 "metadata": {
  "kernelspec": {
   "display_name": "Python 3 (ipykernel)",
   "language": "python",
   "name": "python3"
  },
  "language_info": {
   "codemirror_mode": {
    "name": "ipython",
    "version": 3
   },
   "file_extension": ".py",
   "mimetype": "text/x-python",
   "name": "python",
   "nbconvert_exporter": "python",
   "pygments_lexer": "ipython3",
   "version": "3.9.12"
  }
 },
 "nbformat": 4,
 "nbformat_minor": 5
}
