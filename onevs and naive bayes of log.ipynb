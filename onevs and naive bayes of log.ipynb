{
 "cells": [
  {
   "cell_type": "markdown",
   "id": "b9b340fe",
   "metadata": {},
   "source": [
    "### One-vs-Rest classifier "
   ]
  },
  {
   "cell_type": "markdown",
   "id": "1576cd75",
   "metadata": {},
   "source": [
    "OneVsRest is implemented as an Estimator. For the base classifier, it takes instances of Classifier and creates a binary classification problem for each of the k classes. The classifier for class i is trained to predict whether the label is i or not, distinguishing class i from all other classes."
   ]
  },
  {
   "cell_type": "code",
   "execution_count": 1,
   "id": "63dabb32",
   "metadata": {},
   "outputs": [],
   "source": [
    "import findspark\n",
    "findspark.init()"
   ]
  },
  {
   "cell_type": "code",
   "execution_count": 2,
   "id": "af9025b9",
   "metadata": {},
   "outputs": [],
   "source": [
    "from pyspark.ml.classification import LogisticRegression, OneVsRest\n",
    "from pyspark.ml.evaluation import MulticlassClassificationEvaluator"
   ]
  },
  {
   "cell_type": "code",
   "execution_count": 3,
   "id": "d916ca96",
   "metadata": {},
   "outputs": [],
   "source": [
    "from pyspark.sql import SparkSession"
   ]
  },
  {
   "cell_type": "code",
   "execution_count": 4,
   "id": "07375354",
   "metadata": {},
   "outputs": [],
   "source": [
    "spark = SparkSession.builder.appName(\"one\").getOrCreate()"
   ]
  },
  {
   "cell_type": "code",
   "execution_count": 5,
   "id": "ddd45e2e",
   "metadata": {},
   "outputs": [],
   "source": [
    "df = spark.read.format(\"libsvm\").load(\"newd/iris.txt\")"
   ]
  },
  {
   "cell_type": "code",
   "execution_count": 6,
   "id": "ede7db3f",
   "metadata": {},
   "outputs": [],
   "source": [
    "train,test=df.randomSplit([0.8,0.2])"
   ]
  },
  {
   "cell_type": "code",
   "execution_count": 7,
   "id": "b0b6be57",
   "metadata": {},
   "outputs": [],
   "source": [
    "lr = LogisticRegression(maxIter = 10,tol=1E-6,fitIntercept=True)"
   ]
  },
  {
   "cell_type": "code",
   "execution_count": 8,
   "id": "afdef10e",
   "metadata": {},
   "outputs": [],
   "source": [
    "ovr = OneVsRest(classifier=lr)"
   ]
  },
  {
   "cell_type": "code",
   "execution_count": 9,
   "id": "93c5fad5",
   "metadata": {},
   "outputs": [],
   "source": [
    "ovrModel = ovr.fit(train)"
   ]
  },
  {
   "cell_type": "code",
   "execution_count": 10,
   "id": "1d00fbcd",
   "metadata": {},
   "outputs": [],
   "source": [
    "predictions =ovrModel.transform(test)"
   ]
  },
  {
   "cell_type": "code",
   "execution_count": 11,
   "id": "520a27e9",
   "metadata": {},
   "outputs": [],
   "source": [
    "evaluator =MulticlassClassificationEvaluator(metricName = \"accuracy\")"
   ]
  },
  {
   "cell_type": "code",
   "execution_count": 12,
   "id": "fa3fb67a",
   "metadata": {},
   "outputs": [],
   "source": [
    "accuracy = evaluator.evaluate(predictions)"
   ]
  },
  {
   "cell_type": "code",
   "execution_count": 13,
   "id": "b04fc5c7",
   "metadata": {},
   "outputs": [
    {
     "name": "stdout",
     "output_type": "stream",
     "text": [
      "test error=0.0769231\n"
     ]
    }
   ],
   "source": [
    "print(\"test error=%g\" % (1.0-accuracy))"
   ]
  },
  {
   "cell_type": "code",
   "execution_count": 14,
   "id": "0283305f",
   "metadata": {},
   "outputs": [
    {
     "name": "stdout",
     "output_type": "stream",
     "text": [
      "0.9230769230769231\n"
     ]
    }
   ],
   "source": [
    "print(accuracy)"
   ]
  },
  {
   "cell_type": "markdown",
   "id": "db7d7183",
   "metadata": {},
   "source": [
    "### Naive Bayes\n",
    "\n",
    "Naive Bayes classifiers are a family of simple probabilistic, multiclass classifiers based on applying Bayes’ theorem with strong (naive) independence assumptions between every pair of features.\n",
    "\n",
    "Naive Bayes can be trained very efficiently. With a single pass over the training data, it computes the conditional probability distribution of each feature given each label. For prediction, it applies Bayes’ theorem to compute the conditional probability distribution of each label given an observation."
   ]
  },
  {
   "cell_type": "code",
   "execution_count": 15,
   "id": "1f4b9feb",
   "metadata": {},
   "outputs": [],
   "source": [
    "from pyspark.ml.classification import NaiveBayes"
   ]
  },
  {
   "cell_type": "code",
   "execution_count": 16,
   "id": "5c76e561",
   "metadata": {},
   "outputs": [],
   "source": [
    "dt = spark.read.format(\"libsvm\").load(\"newd/sample_libsvm.txt\")"
   ]
  },
  {
   "cell_type": "code",
   "execution_count": 17,
   "id": "ababc8cf",
   "metadata": {},
   "outputs": [],
   "source": [
    "splits = dt.randomSplit([0.7,0.3],1234)"
   ]
  },
  {
   "cell_type": "code",
   "execution_count": 18,
   "id": "9cf9f27a",
   "metadata": {},
   "outputs": [],
   "source": [
    "trains = splits[0]\n",
    "tests = splits[1]"
   ]
  },
  {
   "cell_type": "code",
   "execution_count": 19,
   "id": "e624ba1d",
   "metadata": {},
   "outputs": [],
   "source": [
    "nb = NaiveBayes(smoothing=1.0,modelType=\"multinomial\")"
   ]
  },
  {
   "cell_type": "code",
   "execution_count": 21,
   "id": "20fea2f3",
   "metadata": {},
   "outputs": [],
   "source": [
    "model = nb.fit(trains)"
   ]
  },
  {
   "cell_type": "code",
   "execution_count": 22,
   "id": "aa39dd70",
   "metadata": {},
   "outputs": [],
   "source": [
    "predictions = model.transform(tests)"
   ]
  },
  {
   "cell_type": "code",
   "execution_count": 24,
   "id": "9b885663",
   "metadata": {},
   "outputs": [
    {
     "name": "stdout",
     "output_type": "stream",
     "text": [
      "+-----+--------------------+--------------------+-----------+----------+\n",
      "|label|            features|       rawPrediction|probability|prediction|\n",
      "+-----+--------------------+--------------------+-----------+----------+\n",
      "|  0.0|(692,[95,96,97,12...|[-173266.38465085...|  [1.0,0.0]|       0.0|\n",
      "|  0.0|(692,[98,99,100,1...|[-176798.24796349...|  [1.0,0.0]|       0.0|\n",
      "|  0.0|(692,[122,123,124...|[-189371.23080028...|  [1.0,0.0]|       0.0|\n",
      "|  0.0|(692,[126,127,128...|[-210969.37526481...|  [1.0,0.0]|       0.0|\n",
      "+-----+--------------------+--------------------+-----------+----------+\n",
      "only showing top 4 rows\n",
      "\n"
     ]
    }
   ],
   "source": [
    "predictions.show(4)"
   ]
  },
  {
   "cell_type": "code",
   "execution_count": 25,
   "id": "f07cb612",
   "metadata": {},
   "outputs": [],
   "source": [
    "evaluator = MulticlassClassificationEvaluator(labelCol='label',predictionCol = \"prediction\",metricName=\"accuracy\")\n",
    "accuracy = evaluator.evaluate(predictions)"
   ]
  },
  {
   "cell_type": "code",
   "execution_count": 26,
   "id": "7cd4ff00",
   "metadata": {},
   "outputs": [
    {
     "name": "stdout",
     "output_type": "stream",
     "text": [
      "1.0\n"
     ]
    }
   ],
   "source": [
    "print(accuracy)"
   ]
  }
 ],
 "metadata": {
  "kernelspec": {
   "display_name": "Python 3 (ipykernel)",
   "language": "python",
   "name": "python3"
  },
  "language_info": {
   "codemirror_mode": {
    "name": "ipython",
    "version": 3
   },
   "file_extension": ".py",
   "mimetype": "text/x-python",
   "name": "python",
   "nbconvert_exporter": "python",
   "pygments_lexer": "ipython3",
   "version": "3.9.12"
  }
 },
 "nbformat": 4,
 "nbformat_minor": 5
}
